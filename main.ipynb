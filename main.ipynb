{
 "cells": [
  {
   "cell_type": "markdown",
   "metadata": {},
   "source": [
    "# main \n",
    "for tests"
   ]
  },
  {
   "cell_type": "code",
   "execution_count": 1,
   "metadata": {},
   "outputs": [
    {
     "ename": "IndentationError",
     "evalue": "expected an indented block (prepare_dataset.py, line 37)",
     "output_type": "error",
     "traceback": [
      "Traceback \u001b[0;36m(most recent call last)\u001b[0m:\n",
      "  File \u001b[1;32m\"/Users/stephen/opt/anaconda3/envs/audio_env/lib/python3.9/site-packages/IPython/core/interactiveshell.py\"\u001b[0m, line \u001b[1;32m3457\u001b[0m, in \u001b[1;35mrun_code\u001b[0m\n    exec(code_obj, self.user_global_ns, self.user_ns)\n",
      "\u001b[0;36m  File \u001b[0;32m\"/var/folders/m3/ywsrz7k170vbk8511l1h_6840000gn/T/ipykernel_14268/3851928915.py\"\u001b[0;36m, line \u001b[0;32m8\u001b[0;36m, in \u001b[0;35m<module>\u001b[0;36m\u001b[0m\n\u001b[0;31m    import prepare_dataset\u001b[0m\n",
      "\u001b[0;36m  File \u001b[0;32m\"/Users/stephen/code/speech_aws_project/prepare_dataset.py\"\u001b[0;36m, line \u001b[0;32m37\u001b[0m\n\u001b[0;31m    \u001b[0m\n\u001b[0m    ^\u001b[0m\n\u001b[0;31mIndentationError\u001b[0m\u001b[0;31m:\u001b[0m expected an indented block\n"
     ]
    }
   ],
   "source": [
    "import os \n",
    "import numpy as np \n",
    "import pandas as pd \n",
    "\n",
    "import torch \n",
    "import torchaudio\n",
    "\n",
    "import prepare_dataset"
   ]
  },
  {
   "cell_type": "code",
   "execution_count": null,
   "metadata": {},
   "outputs": [],
   "source": [
    "prepare_dataset.SPEECHCOMMANDS(\"./data\")"
   ]
  },
  {
   "cell_type": "code",
   "execution_count": null,
   "metadata": {},
   "outputs": [],
   "source": [
    "train_data = prepare_dataset.SPEECHCOMMANDS(\"./data\", download=True, subset=\"training\")\n",
    "valid_data = prepare_dataset.SPEECHCOMMANDS(\"./data\", download=True, subset=\"validation\")\n",
    "test_data = prepare_dataset.SPEECHCOMMANDS(\"./data\", download=True, subset=\"testing\")"
   ]
  },
  {
   "cell_type": "code",
   "execution_count": null,
   "metadata": {},
   "outputs": [],
   "source": [
    "print(f\"Training length: {len(train_data)}\")\n",
    "print(f\"Validation length: {len(valid_data)}\")\n",
    "print(f\"Testing length: {len(test_data)}\")"
   ]
  },
  {
   "cell_type": "code",
   "execution_count": null,
   "metadata": {},
   "outputs": [],
   "source": [
    "train_data[0]"
   ]
  },
  {
   "cell_type": "code",
   "execution_count": null,
   "metadata": {},
   "outputs": [],
   "source": []
  }
 ],
 "metadata": {
  "interpreter": {
   "hash": "ea3e9d44676e53d067b20c1e2b0aacc847e3e53ef51186a02d87f52450540b7c"
  },
  "kernelspec": {
   "display_name": "Python 3.9.7 ('audio_env')",
   "language": "python",
   "name": "python3"
  },
  "language_info": {
   "codemirror_mode": {
    "name": "ipython",
    "version": 3
   },
   "file_extension": ".py",
   "mimetype": "text/x-python",
   "name": "python",
   "nbconvert_exporter": "python",
   "pygments_lexer": "ipython3",
   "version": "3.9.7"
  },
  "orig_nbformat": 4
 },
 "nbformat": 4,
 "nbformat_minor": 2
}
